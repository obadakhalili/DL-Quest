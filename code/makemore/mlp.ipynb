{
 "cells": [
  {
   "cell_type": "code",
   "execution_count": 4,
   "metadata": {},
   "outputs": [],
   "source": [
    "%load_ext autoreload\n",
    "%autoreload 2"
   ]
  },
  {
   "cell_type": "code",
   "execution_count": 5,
   "metadata": {},
   "outputs": [],
   "source": [
    "from tinygrad import Tensor, nn, TinyJit\n",
    "import numpy as np\n",
    "import matplotlib.pyplot as plt\n",
    "from common import word_generator, create_transition_matrix, draw_transition_matrix"
   ]
  },
  {
   "cell_type": "code",
   "execution_count": 6,
   "metadata": {},
   "outputs": [],
   "source": [
    "names = open(\"./names.txt\").read().splitlines()"
   ]
  },
  {
   "cell_type": "code",
   "execution_count": 7,
   "metadata": {},
   "outputs": [],
   "source": [
    "empty_char_token = \".\"\n",
    "vocab = [empty_char_token] + sorted(set(\"\".join(names)))\n",
    "vocab_size = len(vocab)"
   ]
  },
  {
   "cell_type": "code",
   "execution_count": 8,
   "metadata": {},
   "outputs": [
    {
     "data": {
      "text/plain": [
       "(<Tensor <LB METAL (182516, 4) int (<MetaOps.COPY: 3>, None)> on METAL with grad None>,\n",
       " <Tensor <LB METAL (182516,) int (<MetaOps.COPY: 3>, None)> on METAL with grad None>,\n",
       " <Tensor <LB METAL (45630, 4) int (<MetaOps.COPY: 3>, None)> on METAL with grad None>,\n",
       " <Tensor <LB METAL (45630,) int (<MetaOps.COPY: 3>, None)> on METAL with grad None>)"
      ]
     },
     "execution_count": 8,
     "metadata": {},
     "output_type": "execute_result"
    }
   ],
   "source": [
    "block_size = 4\n",
    "X, y = [], []\n",
    "\n",
    "for name in names:\n",
    "  name_chars = [empty_char_token] * block_size + list(name) + [empty_char_token]\n",
    "  for i in range(len(name_chars) - block_size):\n",
    "    X.append([vocab.index(char) for char in name_chars[i : i + block_size]])\n",
    "    y.append(vocab.index(name_chars[i + block_size]))\n",
    "\n",
    "\n",
    "split = int(0.8 * len(X))\n",
    "X_train, y_train, X_test, y_test = (\n",
    "  Tensor(X[:split]),\n",
    "  Tensor(y[:split]),\n",
    "  Tensor(X[split:]),\n",
    "  Tensor(y[split:]),\n",
    ")\n",
    "\n",
    "X_train, y_train, X_test, y_test"
   ]
  },
  {
   "cell_type": "code",
   "execution_count": 9,
   "metadata": {},
   "outputs": [],
   "source": [
    "class EmbeddedMLP:\n",
    "  def __init__(\n",
    "    self,\n",
    "    vocab_size,\n",
    "    embed_size,\n",
    "    input_size,\n",
    "    output_size,\n",
    "    h=[(200, Tensor.tanh), (100, Tensor.tanh)],\n",
    "  ):\n",
    "    self.input_size = input_size\n",
    "    self.layers = [nn.Embedding(vocab_size, embed_size)]\n",
    "    flattened_embed_size = input_size * embed_size\n",
    "    self.layers.append(lambda x: x.reshape((-1, flattened_embed_size)))\n",
    "    prev_layer_size = flattened_embed_size\n",
    "    for layer_size, layer_activation in h:\n",
    "      self.layers.append(nn.Linear(prev_layer_size, layer_size))\n",
    "      self.layers.append(nn.BatchNorm(layer_size))\n",
    "      self.layers.append(layer_activation)\n",
    "      prev_layer_size = layer_size\n",
    "    self.layers.append(nn.Linear(prev_layer_size, output_size))\n",
    "\n",
    "  def __call__(self, x: Tensor):\n",
    "    assert len(x.shape) <= 2 and x.shape[-1] == self.input_size\n",
    "    return x.sequential(self.layers)\n",
    "\n",
    "\n",
    "embedded_mlp = EmbeddedMLP(\n",
    "  vocab_size, embed_size=10, input_size=block_size, output_size=vocab_size\n",
    ")"
   ]
  },
  {
   "cell_type": "code",
   "execution_count": 10,
   "metadata": {},
   "outputs": [],
   "source": [
    "optim = nn.optim.Adam(nn.state.get_parameters(embedded_mlp))\n",
    "batch_size = 128\n",
    "\n",
    "\n",
    "@TinyJit\n",
    "@Tensor.train()\n",
    "def train_step():\n",
    "  optim.zero_grad()\n",
    "  samples = Tensor.randint(batch_size, high=X_train.shape[0])\n",
    "  X_samples, y_samples = X_train[samples], y_train[samples]\n",
    "  loss = embedded_mlp(X_samples).sparse_categorical_crossentropy(y_samples).backward()\n",
    "  optim.step()\n",
    "  return loss"
   ]
  },
  {
   "cell_type": "code",
   "execution_count": 11,
   "metadata": {},
   "outputs": [
    {
     "name": "stdout",
     "output_type": "stream",
     "text": [
      "step 1, loss 3.37, acc 9.85%\n",
      "step 1000, loss 2.25, acc 26.78%\n",
      "step 2000, loss 2.23, acc 27.95%\n",
      "step 3000, loss 2.14, acc 28.20%\n",
      "step 4000, loss 2.26, acc 28.85%\n",
      "step 5000, loss 2.29, acc 28.67%\n",
      "step 6000, loss 2.05, acc 29.23%\n",
      "step 7000, loss 2.00, acc 29.73%\n",
      "step 8000, loss 2.06, acc 30.13%\n",
      "step 9000, loss 2.18, acc 29.61%\n",
      "step 10000, loss 2.25, acc 30.03%\n",
      "step 11000, loss 2.06, acc 30.39%\n",
      "step 12000, loss 1.89, acc 30.54%\n",
      "step 13000, loss 1.86, acc 30.68%\n",
      "step 14000, loss 1.87, acc 30.90%\n",
      "step 15000, loss 1.83, acc 30.70%\n",
      "step 16000, loss 2.06, acc 30.73%\n",
      "step 17000, loss 1.94, acc 30.73%\n",
      "step 18000, loss 1.90, acc 30.95%\n",
      "step 19000, loss 1.87, acc 31.09%\n",
      "step 20000, loss 2.09, acc 30.24%\n"
     ]
    }
   ],
   "source": [
    "losses = []\n",
    "for step in range(1, 20001):\n",
    "  loss = train_step().item()\n",
    "  losses.append(loss)\n",
    "  if step == 1 or step % 1000 == 0:\n",
    "    with Tensor.inference_mode():\n",
    "      acc = (embedded_mlp(X_test).argmax(axis=1) == y_test).mean().item()\n",
    "      print(f\"step {step}, loss {loss:.2f}, acc {acc*100.:.2f}%\")"
   ]
  },
  {
   "cell_type": "code",
   "execution_count": 12,
   "metadata": {},
   "outputs": [
    {
     "data": {
      "image/png": "[encoded data removed]",
      "text/plain": [
       "<Figure size 640x480 with 1 Axes>"
      ]
     },
     "metadata": {},
     "output_type": "display_data"
    }
   ],
   "source": [
    "plt.plot(Tensor(losses).reshape(-1, 100).mean(1).numpy());"
   ]
  },
  {
   "cell_type": "code",
   "execution_count": 13,
   "metadata": {},
   "outputs": [],
   "source": [
    "@word_generator(\n",
    "  block_size=block_size, empty_char=empty_char_token, max_size=float(\"inf\")\n",
    ")\n",
    "def generate_word(prev_block: str):\n",
    "  with Tensor.inference_mode():\n",
    "    x = Tensor([vocab.index(char) for char in prev_block])\n",
    "    y = embedded_mlp(x).squeeze()\n",
    "    counts = y.exp()\n",
    "    p = counts / counts.sum()\n",
    "    return np.random.choice(a=vocab, p=p.numpy())"
   ]
  },
  {
   "cell_type": "code",
   "execution_count": 14,
   "metadata": {},
   "outputs": [],
   "source": [
    "generated_names = []\n",
    "for _ in range(32000):\n",
    "  generated_names.append(generate_word())\n",
    "\n",
    "generated_names[:1000]"
   ]
  },
  {
   "cell_type": "code",
   "execution_count": null,
   "metadata": {},
   "outputs": [],
   "source": [
    "draw_transition_matrix(\n",
    "  create_transition_matrix(generated_names, vocab, empty_char_token), vocab\n",
    ")"
   ]
  }
 ],
 "metadata": {
  "kernelspec": {
   "display_name": ".venv",
   "language": "python",
   "name": "python3"
  },
  "language_info": {
   "codemirror_mode": {
    "name": "ipython",
    "version": 3
   },
   "file_extension": ".py",
   "mimetype": "text/x-python",
   "name": "python",
   "nbconvert_exporter": "python",
   "pygments_lexer": "ipython3",
   "version": "3.12.6"
  }
 },
 "nbformat": 4,
 "nbformat_minor": 2
}
